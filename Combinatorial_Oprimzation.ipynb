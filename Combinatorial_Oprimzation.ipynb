{
  "nbformat": 4,
  "nbformat_minor": 0,
  "metadata": {
    "colab": {
      "provenance": []
    },
    "kernelspec": {
      "name": "python3",
      "display_name": "Python 3"
    },
    "language_info": {
      "name": "python"
    }
  },
  "cells": [
    {
      "cell_type": "code",
      "execution_count": null,
      "metadata": {
        "id": "cV2314fp45kV"
      },
      "outputs": [],
      "source": [
        "import numpy as np\n",
        "import matplotlib.pyplot as plt\n",
        "import time"
      ]
    },
    {
      "cell_type": "markdown",
      "source": [
        "**2. [R] Try to find an optimal solution for the above problem**"
      ],
      "metadata": {
        "id": "cmKeKIs70dXy"
      }
    },
    {
      "cell_type": "code",
      "source": [
        "data=np.loadtxt('Knapsack.txt')"
      ],
      "metadata": {
        "id": "TTI-r9gd4_En"
      },
      "execution_count": null,
      "outputs": []
    },
    {
      "cell_type": "code",
      "source": [
        "!pip install -q pyomo\n",
        "from pyomo.environ import *\n",
        "model_lab3 = ConcreteModel()"
      ],
      "metadata": {
        "id": "CinJYg_35fS6"
      },
      "execution_count": null,
      "outputs": []
    },
    {
      "cell_type": "code",
      "source": [
        "n=np.arange(int(data[0][0]))\n",
        "model_lab3.x=Var(n,domain=Binary)"
      ],
      "metadata": {
        "id": "7mYUKdcc--Br"
      },
      "execution_count": null,
      "outputs": []
    },
    {
      "cell_type": "code",
      "source": [
        "model_lab3.objective = Objective(expr=sum(data[i+1][0]*model_lab3.x[i] for i in range(int(data[0][0]))),sense=maximize)"
      ],
      "metadata": {
        "id": "fdG1gUITALM0"
      },
      "execution_count": null,
      "outputs": []
    },
    {
      "cell_type": "code",
      "source": [
        "model_lab3.constraints = ConstraintList()\n",
        "model_lab3.constraints.add(sum(data[i+1][1]*model_lab3.x[i] for i in n) <= int(data[0][1]))"
      ],
      "metadata": {
        "colab": {
          "base_uri": "https://localhost:8080/"
        },
        "id": "fjCjIiRGCoRz",
        "outputId": "71ca4a84-84f4-4b42-a14a-c52ec4c472e5"
      },
      "execution_count": null,
      "outputs": [
        {
          "output_type": "execute_result",
          "data": {
            "text/plain": [
              "<pyomo.core.base.constraint._GeneralConstraintData at 0x7fafa01eefa0>"
            ]
          },
          "metadata": {},
          "execution_count": 35
        }
      ]
    },
    {
      "cell_type": "code",
      "source": [
        "model_lab3.pprint()"
      ],
      "metadata": {
        "colab": {
          "base_uri": "https://localhost:8080/"
        },
        "id": "TFpnUuqaBF2z",
        "outputId": "e136fc7f-b994-4265-de00-0be8c96d2897"
      },
      "execution_count": null,
      "outputs": [
        {
          "output_type": "stream",
          "name": "stdout",
          "text": [
            "2 Set Declarations\n",
            "    constraints_index : Size=1, Index=None, Ordered=Insertion\n",
            "        Key  : Dimen : Domain : Size : Members\n",
            "        None :     1 :    Any :    1 :    {1,}\n",
            "    x_index : Size=1, Index=None, Ordered=False\n",
            "        Key  : Dimen : Domain : Size : Members\n",
            "        None :     1 :    Any :   26 : {0, 1, 2, 3, 4, 5, 6, 7, 8, 9, 10, 11, 12, 13, 14, 15, 16, 17, 18, 19, 20, 21, 22, 23, 24, 25}\n",
            "\n",
            "1 Var Declarations\n",
            "    x : Size=26, Index=x_index\n",
            "        Key : Lower : Value : Upper : Fixed : Stale : Domain\n",
            "          0 :     0 :  None :     1 : False :  True : Binary\n",
            "          1 :     0 :  None :     1 : False :  True : Binary\n",
            "          2 :     0 :  None :     1 : False :  True : Binary\n",
            "          3 :     0 :  None :     1 : False :  True : Binary\n",
            "          4 :     0 :  None :     1 : False :  True : Binary\n",
            "          5 :     0 :  None :     1 : False :  True : Binary\n",
            "          6 :     0 :  None :     1 : False :  True : Binary\n",
            "          7 :     0 :  None :     1 : False :  True : Binary\n",
            "          8 :     0 :  None :     1 : False :  True : Binary\n",
            "          9 :     0 :  None :     1 : False :  True : Binary\n",
            "         10 :     0 :  None :     1 : False :  True : Binary\n",
            "         11 :     0 :  None :     1 : False :  True : Binary\n",
            "         12 :     0 :  None :     1 : False :  True : Binary\n",
            "         13 :     0 :  None :     1 : False :  True : Binary\n",
            "         14 :     0 :  None :     1 : False :  True : Binary\n",
            "         15 :     0 :  None :     1 : False :  True : Binary\n",
            "         16 :     0 :  None :     1 : False :  True : Binary\n",
            "         17 :     0 :  None :     1 : False :  True : Binary\n",
            "         18 :     0 :  None :     1 : False :  True : Binary\n",
            "         19 :     0 :  None :     1 : False :  True : Binary\n",
            "         20 :     0 :  None :     1 : False :  True : Binary\n",
            "         21 :     0 :  None :     1 : False :  True : Binary\n",
            "         22 :     0 :  None :     1 : False :  True : Binary\n",
            "         23 :     0 :  None :     1 : False :  True : Binary\n",
            "         24 :     0 :  None :     1 : False :  True : Binary\n",
            "         25 :     0 :  None :     1 : False :  True : Binary\n",
            "\n",
            "1 Objective Declarations\n",
            "    objective : Size=1, Index=None, Active=True\n",
            "        Key  : Active : Sense    : Expression\n",
            "        None :   True : maximize : 91.0*x[0] + 72.0*x[1] + 90.0*x[2] + 46.0*x[3] + 55.0*x[4] + 8.0*x[5] + 35.0*x[6] + 75.0*x[7] + 61.0*x[8] + 15.0*x[9] + 77.0*x[10] + 40.0*x[11] + 63.0*x[12] + 75.0*x[13] + 29.0*x[14] + 75.0*x[15] + 17.0*x[16] + 78.0*x[17] + 40.0*x[18] + 44.0*x[19] + 40.0*x[20] + 20.0*x[21] + 23.0*x[22] + 55.0*x[23] + 65.0*x[24] + 12.0*x[25]\n",
            "\n",
            "1 Constraint Declarations\n",
            "    constraints : Size=1, Index=constraints_index, Active=True\n",
            "        Key : Lower : Body                                                                                                                                                                                                                                                                                                                                : Upper : Active\n",
            "          1 :  -Inf : 84.0*x[0] + 83.0*x[1] + 43.0*x[2] + 4.0*x[3] + 44.0*x[4] + 6.0*x[5] + 82.0*x[6] + 92.0*x[7] + 25.0*x[8] + 83.0*x[9] + 56.0*x[10] + 18.0*x[11] + 58.0*x[12] + 14.0*x[13] + 48.0*x[14] + 70.0*x[15] + 96.0*x[16] + 32.0*x[17] + 68.0*x[18] + 92.0*x[19] + 60.0*x[20] + 55.0*x[21] + 12.0*x[22] + 15.0*x[23] + 38.0*x[24] + 40.0*x[25] : 550.0 :   True\n",
            "\n",
            "5 Declarations: x_index x objective constraints_index constraints\n"
          ]
        }
      ]
    },
    {
      "cell_type": "code",
      "source": [
        "!apt-get install -y -qq coinor-cbc\n"
      ],
      "metadata": {
        "id": "VzL7FkwkDkw0"
      },
      "execution_count": null,
      "outputs": []
    },
    {
      "cell_type": "markdown",
      "source": [
        "**3. [R] Find the optimal subset of items to include in knapsack for this problem.**\n",
        "\n",
        "index set:  [1, 2, 3, 4, 5, 6, 9, 11, 12, 14, 16, 18, 23, 24, 25]\n",
        "\n",
        "**4. [R] Report the solution and note the solution time**\n",
        "\n",
        "objective value:  911.0\n",
        "\n",
        "time:  0.06527090072631836"
      ],
      "metadata": {
        "id": "xJsT9Sz00jgJ"
      }
    },
    {
      "cell_type": "code",
      "source": [
        "initialtime=time.time()\n",
        "opt_cbc = SolverFactory('cbc')\n",
        "result = opt_cbc.solve(model_lab3)\n",
        "print('time: ', time.time()-initialtime)\n",
        "print(result)\n",
        "print('----------------------------*****----------------------------')\n",
        "print('objective value: ',model_lab3.objective())\n",
        "\n",
        "subset=[]\n",
        "for i in n:\n",
        "  if model_lab3.x[i]()!=0:\n",
        "    subset.append(i+1)\n",
        "print('index set: ', subset)"
      ],
      "metadata": {
        "colab": {
          "base_uri": "https://localhost:8080/"
        },
        "id": "8ua6zq7tDpQq",
        "outputId": "8b2d7dab-553e-4a5a-d775-408e8e20960c"
      },
      "execution_count": null,
      "outputs": [
        {
          "output_type": "stream",
          "name": "stdout",
          "text": [
            "time:  0.06527090072631836\n",
            "\n",
            "Problem: \n",
            "- Name: unknown\n",
            "  Lower bound: 911.0\n",
            "  Upper bound: 911.0\n",
            "  Number of objectives: 1\n",
            "  Number of constraints: 1\n",
            "  Number of variables: 26\n",
            "  Number of binary variables: 26\n",
            "  Number of integer variables: 26\n",
            "  Number of nonzeros: 26\n",
            "  Sense: maximize\n",
            "Solver: \n",
            "- Status: ok\n",
            "  User time: -1.0\n",
            "  System time: 0.01\n",
            "  Wallclock time: 0.02\n",
            "  Termination condition: optimal\n",
            "  Termination message: Model was solved to optimality (subject to tolerances), and an optimal solution is available.\n",
            "  Statistics: \n",
            "    Branch and bound: \n",
            "      Number of bounded subproblems: 0\n",
            "      Number of created subproblems: 0\n",
            "    Black box: \n",
            "      Number of iterations: 2\n",
            "  Error rc: 0\n",
            "  Time: 0.03754091262817383\n",
            "Solution: \n",
            "- number of solutions: 0\n",
            "  number of solutions displayed: 0\n",
            "\n",
            "----------------------------*****----------------------------\n",
            "objective value:  911.0\n",
            "index set:  [1, 2, 3, 4, 5, 6, 9, 11, 12, 14, 16, 18, 23, 24, 25]\n"
          ]
        }
      ]
    },
    {
      "cell_type": "code",
      "source": [
        "#using recursion\n",
        "\n",
        "\n",
        "def knapSack(W, wt, val, n):\n",
        "\n",
        "\t# Base Case\n",
        "\tif n == 0 or W == 0:\n",
        "\t\treturn 0\n",
        "\n",
        "\tif (wt[n-1] > W):\n",
        "\t\treturn knapSack(W, wt, val, n-1)\n",
        "\n",
        "\telse:\n",
        "\t\treturn max(val[n-1] + knapSack(W-wt[n-1], wt, val, n-1),knapSack(W, wt, val, n-1))\n",
        "\n",
        "profit = [data[i+1][0] for i in range(len(data)-1)]\n",
        "weight = [data[i+1][1] for i in range(len(data)-1)]\n",
        "\n",
        "W = data[0][1]\n",
        "n = len(data)-1\n",
        "initialtime=time.time()\n",
        "print(knapSack(W, weight, profit, n))\n",
        "print('time: ', time.time()-initialtime)\n"
      ],
      "metadata": {
        "id": "1LdnXQYmByGR",
        "colab": {
          "base_uri": "https://localhost:8080/"
        },
        "outputId": "a4a3d571-317e-46e3-8a78-aa288f0dcb4f"
      },
      "execution_count": null,
      "outputs": [
        {
          "output_type": "stream",
          "name": "stdout",
          "text": [
            "911.0\n",
            "time:  26.064196825027466\n"
          ]
        }
      ]
    },
    {
      "cell_type": "markdown",
      "source": [
        "**5. [R] If it seems that the time to solve the problem is more, try to solve the problem in lesser time complexity\n",
        "and report the solution and time. (Hint- dynamic programming)**\n"
      ],
      "metadata": {
        "id": "E0JVYHyw1FHx"
      }
    },
    {
      "cell_type": "code",
      "source": [
        "#using dynamic programming\n",
        "def knapSack(W, wt, val, n):\n",
        "    K = [[0 for x in range(W + 1)] for x in range(n + 1)]\n",
        "    \n",
        "    for i in range(n + 1):\n",
        "        for w in range(W + 1):\n",
        "            if i == 0 or w == 0:\n",
        "                K[i][w] = 0\n",
        "            elif wt[i-1] <= w:\n",
        "                K[i][w] = max(val[i-1]+ K[i-1][w-int(wt[i-1])],K[i-1][w])\n",
        "            else:\n",
        "                K[i][w] = K[i-1][w]\n",
        " \n",
        "    return K[n][W]\n",
        "\n",
        "profit = [data[i+1][0] for i in range(len(data)-1)]\n",
        "weight = [data[i+1][1] for i in range(len(data)-1)]\n",
        "\n",
        "W = int(data[0][1])\n",
        "n = int(len(data)-1)\n",
        "\n",
        "initialtime=time.time()\n",
        "print(knapSack(W, weight, profit, n))\n",
        "print('time: ', time.time()-initialtime)"
      ],
      "metadata": {
        "colab": {
          "base_uri": "https://localhost:8080/"
        },
        "id": "yane5b0hEqFB",
        "outputId": "b631129c-c526-401b-89b3-4fd07be8eece"
      },
      "execution_count": null,
      "outputs": [
        {
          "output_type": "stream",
          "name": "stdout",
          "text": [
            "911.0\n",
            "time:  0.04096698760986328\n"
          ]
        }
      ]
    }
  ]
}